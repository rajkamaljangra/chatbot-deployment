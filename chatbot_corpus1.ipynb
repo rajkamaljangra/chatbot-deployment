{
  "nbformat": 4,
  "nbformat_minor": 0,
  "metadata": {
    "colab": {
      "name": "chatbot_corpus.ipynb",
      "provenance": [],
      "authorship_tag": "ABX9TyNNx7MLIwpzOPG/RmbwajR6",
      "include_colab_link": true
    },
    "kernelspec": {
      "name": "python3",
      "display_name": "Python 3"
    },
    "language_info": {
      "name": "python"
    }
  },
  "cells": [
    {
      "cell_type": "markdown",
      "metadata": {
        "id": "view-in-github",
        "colab_type": "text"
      },
      "source": [
        "<a href=\"https://colab.research.google.com/github/rajkamaljangra/chatbot-deployment/blob/main/chatbot_corpus1.ipynb\" target=\"_parent\"><img src=\"https://colab.research.google.com/assets/colab-badge.svg\" alt=\"Open In Colab\"/></a>"
      ]
    },
    {
      "cell_type": "markdown",
      "source": [
        "**Import the required modules**"
      ],
      "metadata": {
        "id": "iJGs7Oooq6Yz"
      }
    },
    {
      "cell_type": "code",
      "execution_count": 100,
      "metadata": {
        "id": "0_4f7X9IqnRx"
      },
      "outputs": [],
      "source": [
        "import numpy as numpy\n",
        "import nltk\n",
        "import string\n",
        "import random"
      ]
    },
    {
      "cell_type": "markdown",
      "source": [
        "**Importing the corpus**"
      ],
      "metadata": {
        "id": "jFCqqrT8sdxT"
      }
    },
    {
      "cell_type": "code",
      "source": [
        "f=open('chatbot_p.txt','r', errors='ignore')\n",
        "raw_doc = f.read()\n",
        "raw_doc"
      ],
      "metadata": {
        "id": "_s6HsxDlrF-6",
        "colab": {
          "base_uri": "https://localhost:8080/",
          "height": 157
        },
        "outputId": "5c601f50-d7a6-46ed-8662-4fb4240473fe"
      },
      "execution_count": 101,
      "outputs": [
        {
          "output_type": "execute_result",
          "data": {
            "text/plain": [
              "'William Shakespeare, Shakespeare also spelled Shakspere, byname Bard of Avon or Swan of Avon, (baptized April 26, 1564, Stratford-upon-Avon, Warwickshire, England—died April 23, 1616, Stratford-upon-Avon), English poet, dramatist, and actor often called the English national poet and considered by many to be the greatest dramatist of all time.\\n\\nShakespeare occupies a position unique in world literature. Other poets, such as Homer and Dante, and novelists, such as Leo Tolstoy and Charles Dickens, have transcended national barriers, but no writer’s living reputation can compare to that of Shakespeare, whose plays, written in the late 16th and early 17th centuries for a small repertory theatre, are now performed and read more often and in more countries than ever before. The prophecy of his great contemporary, the poet and dramatist Ben Jonson, that Shakespeare “was not of an age, but for all time,” has been fulfilled.\\n\\nExplore five questions about Shakespeare\\'s life\\nExplore five questions about Shakespeare\\'s life\\nEncyclopædia Britannica, Inc.\\nSee all videos for this article\\nIt may be audacious even to attempt a definition of his greatness, but it is not so difficult to describe the gifts that enabled him to create imaginative visions of pathos and mirth that, whether read or witnessed in the theatre, fill the mind and linger there. He is a writer of great intellectual rapidity, perceptiveness, and poetic power. Other writers have had these qualities, but with Shakespeare the keenness of mind was applied not to abstruse or remote subjects but to human beings and their complete range of emotions and conflicts. Other writers have applied their keenness of mind in this way, but Shakespeare is astonishingly clever with words and images, so that his mental energy, when applied to intelligible human situations, finds full and memorable expression, convincing and imaginatively stimulating. As if this were not enough, the art form into which his creative energies went was not remote and bookish but involved the vivid stage impersonation of human beings, commanding sympathy and inviting vicarious participation. Thus, Shakespeare’s merits can survive translation into other languages and into cultures remote from that of Elizabethan England.\\n\\nShakespeare the man\\nLife\\nLearn about William Shakespeare\\'s early boyhood and path to London to become a playwright and actor\\nLearn about William Shakespeare\\'s early boyhood and path to London to become a playwright and actor\\nEncyclopædia Britannica, Inc.\\nSee all videos for this article\\nAlthough the amount of factual knowledge available about Shakespeare is surprisingly large for one of his station in life, many find it a little disappointing, for it is mostly gleaned from documents of an official character. Dates of baptisms, marriages, deaths, and burials; wills, conveyances, legal processes, and payments by the court—these are the dusty details. There are, however, many contemporary allusions to him as a writer, and these add a reasonable amount of flesh and blood to the biographical skeleton.\\n\\nStack of books, pile of books, literature, reading. Hompepage blog 2009, arts and entertainment, history and society.\\nBRITANNICA QUIZ\\nLiterary Favorites: Fact or Fiction?\\nLove literature? This quiz sorts out the truth about beloved authors and stories, old and new.\\nEarly life in Stratford\\nShakespeare\\'s birthplace\\nShakespeare\\'s birthplace\\n© Albert Rose/Archive Photos\\nThe parish register of Holy Trinity Church in Stratford-upon-Avon, Warwickshire, shows that he was baptized there on April 26, 1564; his birthday is traditionally celebrated on April 23. His father, John Shakespeare, was a burgess of the borough, who in 1565 was chosen an alderman and in 1568 bailiff (the position corresponding to mayor, before the grant of a further charter to Stratford in 1664). He was engaged in various kinds of trade and appears to have suffered some fluctuations in prosperity. His wife, Mary Arden, of Wilmcote, Warwickshire, came from an ancient family and was the heiress to some land. (Given the somewhat rigid social distinctions of the 16th century, this marriage must have been a step up the social scale for John Shakespeare.)\\n\\n\\nStratford enjoyed a grammar school of good quality, and the education there was free, the schoolmaster’s salary being paid by the borough. No lists of the pupils who were at the school in the 16th century have survived, but it would be absurd to suppose the bailiff of the town did not send his son there. The boy’s education would consist mostly of Latin studies—learning to read, write, and speak the language fairly well and studying some of the Classical historians, moralists, and poets. Shakespeare did not go on to the university, and indeed it is unlikely that the scholarly round of logic, rhetoric, and other studies then followed there would have interested him.\\n\\nGet a Britannica Premium subscription and gain access to exclusive content.\\nSubscribe Now\\nInstead, at age 18 he married. Where and exactly when are not known, but the episcopal registry at Worcester preserves a bond dated November 28, 1582, and executed by two yeomen of Stratford, named Sandells and Richardson, as a security to the bishop for the issue of a license for the marriage of William Shakespeare and “Anne Hathaway of Stratford,” upon the consent of her friends and upon once asking of the banns. (Anne died in 1623, seven years after Shakespeare. There is good evidence to associate her with a family of Hathaways who inhabited a beautiful farmhouse, now much visited, 2 miles [3.2 km] from Stratford.) The next date of interest is found in the records of the Stratford church, where a daughter, named Susanna, born to William Shakespeare, was baptized on May 26, 1583. On February 2, 1585, twins were baptized, Hamnet and Judith. (Hamnet, Shakespeare’s only son, died 11 years later.)\\n\\n\\nHow Shakespeare spent the next eight years or so, until his name begins to appear in London theatre records, is not known. There are stories—given currency long after his death—of stealing deer and getting into trouble with a local magnate, Sir Thomas Lucy of Charlecote, near Stratford; of earning his living as a schoolmaster in the country; of going to London and gaining entry to the world of theatre by minding the horses of theatregoers. It has also been conjectured that Shakespeare spent some time as a member of a great household and that he was a soldier, perhaps in the Low Countries. In lieu of external evidence, such extrapolations about Shakespeare’s life have often been made from the internal “evidence” of his writings. But this method is unsatisfactory: one cannot conclude, for example, from his allusions to the law that Shakespeare was a lawyer, for he was clearly a writer who without difficulty could get whatever knowledge he needed for the composition of his plays.\\n\\nCareer in the theatre of William Shakespeare\\nThe first reference to Shakespeare in the literary world of London comes in 1592, when a fellow dramatist, Robert Greene, declared in a pamphlet written on his deathbed:\\n\\nThere is an upstart crow, beautified with our feathers, that with his Tygers heart wrapt in a Players hide supposes he is as well able to bombast out a blank verse as the best of you; and, being an absolute Johannes Factotum, is in his own conceit the only Shake-scene in a country.\\n\\nWhat these words mean is difficult to determine, but clearly they are insulting, and clearly Shakespeare is the object of the sarcasms. When the book in which they appear (Greenes, groats-worth of witte, bought with a million of Repentance, 1592) was published after Greene’s death, a mutual acquaintance wrote a preface offering an apology to Shakespeare and testifying to his worth. This preface also indicates that Shakespeare was by then making important friends. For, although the puritanical city of London was generally hostile to the theatre, many of the nobility were good patrons of the drama and friends of the actors. Shakespeare seems to have attracted the attention of the young Henry Wriothesley, the 3rd earl of Southampton, and to this nobleman were dedicated his first published poems, Venus and Adonis and The Rape of Lucrece.\\n\\nSee an illustrated manuscript of 16th-century coats of arms, including commentary on whether Shakespeare is worthy of one\\nSee an illustrated manuscript of 16th-century coats of arms, including commentary on whether Shakespeare is worthy of one\\nCourtesy of Folger Shakespeare Library; CC-BY-SA 4.0 (A Britannica Publishing Partner)\\nSee all videos for this article\\nOne striking piece of evidence that Shakespeare began to prosper early and tried to retrieve the family’s fortunes and establish its gentility is the fact that a coat of arms was granted to John Shakespeare in 1596. Rough drafts of this grant have been preserved in the College of Arms, London, though the final document, which must have been handed to the Shakespeares, has not survived. Almost certainly William himself took the initiative and paid the fees. The coat of arms appears on Shakespeare’s monument (constructed before 1623) in the Stratford church. Equally interesting as evidence of Shakespeare’s worldly success was his purchase in 1597 of New Place, a large house in Stratford, which he as a boy must have passed every day in walking to school.\\n\\n\\nGlobe Theatre\\nGlobe Theatre\\nMary Evans Picture Library\\nHow his career in the theatre began is unclear, but from roughly 1594 onward he was an important member of the Lord Chamberlain’s company of players (called the King’s Men after the accession of James I in 1603). They had the best actor, Richard Burbage; they had the best theatre, the Globe (finished by the autumn of 1599); they had the best dramatist, Shakespeare. It is no wonder that the company prospered. Shakespeare became a full-time professional man of his own theatre, sharing in a cooperative enterprise and intimately concerned with the financial success of the plays he wrote.\\n\\nUnfortunately, written records give little indication of the way in which Shakespeare’s professional life molded his marvelous artistry. All that can be deduced is that for 20 years Shakespeare devoted himself assiduously to his art, writing more than a million words of poetic drama of the highest quality.\\n\\nPrivate life\\nShakespeare\\'s house in Stratford-upon-Avon\\nShakespeare\\'s house in Stratford-upon-Avon\\n© Bettmann/Corbis\\nShakespeare had little contact with officialdom, apart from walking—dressed in the royal livery as a member of the King’s Men—at the coronation of King James I in 1604. He continued to look after his financial interests. He bought properties in London and in Stratford. In 1605 he purchased a share (about one-fifth) of the Stratford tithes—a fact that explains why he was eventually buried in the chancel of its parish church. For some time he lodged with a French Huguenot family called Mountjoy, who lived near St. Olave’s Church in Cripplegate, London. The records of a lawsuit in May 1612, resulting from a Mountjoy family quarrel, show Shakespeare as giving evidence in a genial way (though unable to remember certain important facts that would have decided the case) and as interesting himself generally in the family’s affairs.\\n\\n\\nNo letters written by Shakespeare have survived, but a private letter to him happened to get caught up with some official transactions of the town of Stratford and so has been preserved in the borough archives. It was written by one Richard Quiney and addressed by him from the Bell Inn in Carter Lane, London, whither he had gone from Stratford on business. On one side of the paper is inscribed: “To my loving good friend and countryman, Mr. Wm. Shakespeare, deliver these.” Apparently Quiney thought his fellow Stratfordian a person to whom he could apply for the loan of £30—a large sum in Elizabethan times. Nothing further is known about the transaction, but, because so few opportunities of seeing into Shakespeare’s private life present themselves, this begging letter becomes a touching document. It is of some interest, moreover, that 18 years later Quiney’s son Thomas became the husband of Judith, Shakespeare’s second daughter.\\n\\nShakespeare’s will (made on March 25, 1616) is a long and detailed document. It entailed his quite ample property on the male heirs of his elder daughter, Susanna. (Both his daughters were then married, one to the aforementioned Thomas Quiney and the other to John Hall, a respected physician of Stratford.) As an afterthought, he bequeathed his “second-best bed” to his wife; no one can be certain what this notorious legacy means. The testator’s signatures to the will are apparently in a shaky hand. Perhaps Shakespeare was already ill. He died on April 23, 1616. No name was inscribed on his gravestone in the chancel of the parish church of Stratford-upon-Avon. Instead these lines, possibly his own, appeared:\\n\\nGood friend, for Jesus’ sake forbear\\nTo dig the dust enclosed here.\\nBlest be the man that spares these stones,\\nAnd curst be he that moves my bones.\\nJohn Russell Brown\\nTerence John Bew Spencer\\nThe Editors of Encyclopaedia Britannica\\nSexuality of William Shakespeare\\nLike so many circumstances of Shakespeare’s personal life, the question of his sexual nature is shrouded in uncertainty. At age 18, in 1582, he married Anne Hathaway, a woman who was eight years older than he. Their first child, Susanna, was born on May 26, 1583, about six months after the marriage ceremony. A license had been issued for the marriage on November 27, 1582, with only one reading (instead of the usual three) of the banns, or announcement of the intent to marry in order to give any party the opportunity to raise any potential legal objections. This procedure and the swift arrival of the couple’s first child suggest that the pregnancy was unplanned, as it was certainly premarital. The marriage thus appears to have been a “shotgun” wedding. Anne gave birth some 21 months after the arrival of Susanna to twins, named Hamnet and Judith, who were christened on February 2, 1585. Thereafter William and Anne had no more children. They remained married until his death in 1616.\\n\\nWere they compatible, or did William prefer to live apart from Anne for most of this time? When he moved to London at some point between 1585 and 1592, he did not take his family with him. Divorce was nearly impossible in this era. Were there medical or other reasons for the absence of any more children? Was he present in Stratford when Hamnet, his only son, died in 1596 at age 11? He bought a fine house for his family in Stratford and acquired real estate in the vicinity. He was eventually buried in Holy Trinity Church in Stratford, where Anne joined him in 1623. He seems to have retired to Stratford from London about 1612. He had lived apart from his wife and children, except presumably for occasional visits in the course of a very busy professional life, for at least two decades. His bequeathing in his last will and testament of his “second best bed” to Anne, with no further mention of her name in that document, has suggested to many scholars that the marriage was a disappointment necessitated by an unplanned pregnancy.\\n\\nWhat was Shakespeare’s love life like during those decades in London, apart from his family? Knowledge on this subject is uncertain at best. According to an entry dated March 13, 1602, in the commonplace book of a law student named John Manningham, Shakespeare had a brief affair after he happened to overhear a female citizen at a performance of Richard III making an assignation with Richard Burbage, the leading actor of the acting company to which Shakespeare also belonged. Taking advantage of having overheard their conversation, Shakespeare allegedly hastened to the place where the assignation had been arranged, was “entertained” by the woman, and was “at his game” when Burbage showed up. When a message was brought that “Richard the Third” had arrived, Shakespeare is supposed to have “caused return to be made that William the Conqueror was before Richard the Third. Shakespeare’s name William.” This diary entry of Manningham’s must be regarded with much skepticism, since it is verified by no other evidence and since it may simply speak to the timeless truth that actors are regarded as free spirits and bohemians. Indeed, the story was so amusing that it was retold, embellished, and printed in Thomas Likes’s A General View of the Stage (1759) well before Manningham’s diary was discovered. It does at least suggest, at any rate, that Manningham imagined it to be true that Shakespeare was heterosexual and not averse to an occasional infidelity to his marriage vows. The film Shakespeare in Love (1998) plays amusedly with this idea in its purely fictional presentation of Shakespeare’s torchy affair with a young woman named Viola De Lesseps, who was eager to become a player in a professional acting company and who inspired Shakespeare in his writing of Romeo and Juliet—indeed, giving him some of his best lines.\\n\\n\\nApart from these intriguing circumstances, little evidence survives other than the poems and plays that Shakespeare wrote. Can anything be learned from them? The sonnets, written perhaps over an extended period from the early 1590s into the 1600s, chronicle a deeply loving relationship between the speaker of the sonnets and a well-born young man. At times the poet-speaker is greatly sustained and comforted by a love that seems reciprocal. More often, the relationship is one that is troubled by painful absences, by jealousies, by the poet’s perception that other writers are winning the young man’s affection, and finally by the deep unhappiness of an outright desertion in which the young man takes away from the poet-speaker the dark-haired beauty whose sexual favours the poet-speaker has enjoyed (though not without some revulsion at his own unbridled lust, as in Sonnet 129). This narrative would seem to posit heterosexual desire in the poet-speaker, even if of a troubled and guilty sort; but do the earlier sonnets suggest also a desire for the young man? The relationship is portrayed as indeed deeply emotional and dependent; the poet-speaker cannot live without his friend and that friend’s returning the love that the poet-speaker so ardently feels. Yet readers today cannot easily tell whether that love is aimed at physical completion. Indeed, Sonnet 20 seems to deny that possibility by insisting that Nature’s having equipped the friend with “one thing to my purpose nothing”—that is, a penis—means that physical sex must be regarded as solely in the province of the friend’s relationship with women: “But since she [Nature] pricked thee out for women’s pleasure, / Mine be thy love and thy love’s use their treasure.” The bawdy pun on “pricked” underscores the sexual meaning of the sonnet’s concluding couplet. Critic Joseph Pequigney has argued at length that the sonnets nonetheless do commemorate a consummated physical relationship between the poet-speaker and the friend, but most commentators have backed away from such a bold assertion.\\n\\n\\nWilliam Shakespeare and Lord Chamberlain\\'s Men performing \"Love\\'s Labour\\'s Lost\" for Queen Elizabeth I, from the Works of William Shakespeare; etching, dated c. mid-19th century.\\nBRITANNICA QUIZ\\nEnglish and Irish Playwrights (Part Two) Quiz\\nDo you know who wrote She Stoops to Conquer? Which 17th-century playwright was arrested and thrown into the Tower of London? Test your knowledge of theatre history in the British Isles with this quiz.\\nA significant difficulty is that one cannot be sure that the sonnets are autobiographical. Shakespeare is such a masterful dramatist that one can easily imagine him creating such an intriguing story line as the basis for his sonnet sequence. Then, too, are the sonnets printed in the order that Shakespeare would have intended? He seems not to have been involved in their publication in 1609, long after most of them had been written. Even so, one can perhaps ask why such a story would have appealed to Shakespeare. Is there a level at which fantasy and dreamwork may be involved?\\n\\n\\nThe plays and other poems lend themselves uncertainly to such speculation. Loving relationships between two men are sometimes portrayed as extraordinarily deep. Antonio in Twelfth Night protests to Sebastian that he needs to accompany Sebastian on his adventures even at great personal risk: “If you will not murder me for my love, let me be your servant” (Act II, scene 1, lines 33–34). That is to say, I will die if you leave me behind. Another Antonio, in The Merchant of Venice, risks his life for his loving friend Bassanio. Actors in today’s theatre regularly portray these relationships as homosexual, and indeed actors are often incredulous toward anyone who doubts that to be the case. In Troilus and Cressida, Patroclus is rumoured to be Achilles’ “masculine whore” (V, 1, line 17), as is suggested in Homer, and certainly the two are very close in friendship, though Patroclus does admonish Achilles to engage in battle by saying,\\n\\nA woman impudent and mannish grown\\nIs not more loathed than an effeminate man\\nIn time of action\\n(III, 3, 218–220)\\nAgain, on the modern stage this relationship is often portrayed as obviously, even flagrantly, sexual; but whether Shakespeare saw it as such, or the play valorizes homosexuality or bisexuality, is another matter.\\n\\n\\nCertainly his plays contain many warmly positive depictions of heterosexuality, in the loves of Romeo and Juliet, Orlando and Rosalind, and Henry V and Katharine of France, among many others. At the same time, Shakespeare is astute in his representations of sexual ambiguity. Viola—in disguise as a young man, Cesario, in Twelfth Night—wins the love of Duke Orsino in such a delicate way that what appears to be the love between two men morphs into the heterosexual mating of Orsino and Viola. The ambiguity is reinforced by the audience’s knowledge that in Shakespeare’s theatre Viola/Cesario was portrayed by a boy actor of perhaps 16. All the cross-dressing situations in the comedies, involving Portia in The Merchant of Venice, Rosalind/Ganymede in As You Like It, Imogen in Cymbeline, and many others, playfully explore the uncertain boundaries between the genders. Rosalind’s male disguise name in As You Like It, Ganymede, is that of the cupbearer to Zeus with whom the god was enamoured; the ancient legends assume that Ganymede was Zeus’s catamite. Shakespeare is characteristically delicate on that score, but he does seem to delight in the frisson of sexual suggestion.\\n\\nDavid Bevington\\nEarly posthumous documentation of William Shakespeare\\nShakespeare’s family or friends, however, were not content with a simple gravestone, and, within a few years, a monument was erected on the chancel wall. It seems to have existed by 1623. Its epitaph, written in Latin and inscribed immediately below the bust, attributes to Shakespeare the worldly wisdom of Nestor, the genius of Socrates, and the poetic art of Virgil. This apparently was how his contemporaries in Stratford-upon-Avon wished their fellow citizen to be remembered.\\n\\nThe tributes of his colleagues\\nfrontispiece of the First Folio\\nfrontispiece of the First Folio\\nThe Newberry Library, Louis H. Silver Collection, 1965 (A Britannica Publishing Partner)\\nThe memory of Shakespeare survived long in theatrical circles, for his plays remained a major part of the repertory of the King’s Men until the closing of the theatres in 1642. The greatest of Shakespeare’s great contemporaries in the theatre, Ben Jonson, had a good deal to say about him. To William Drummond of Hawthornden in 1619 he said that Shakespeare “wanted art.” But, when Jonson came to write his splendid poem prefixed to the Folio edition of Shakespeare’s plays in 1623, he rose to the occasion with stirring words of praise:\\n\\nTriumph, my Britain, thou hast one to show\\nTo whom all scenes of Europe homage owe.\\nHe was not of an age, but for all time!\\nBesides almost retracting his earlier gibe about Shakespeare’s lack of art, he gives testimony that Shakespeare’s personality was to be felt, by those who knew him, in his poetry—that the style was the man. Jonson also reminded his readers of the strong impression the plays had made upon Queen Elizabeth I and King James I at court performances:\\n\\nSweet Swan of Avon, what a sight it were\\nTo see thee in our waters yet appear,\\nAnd make those flights upon the banks of Thames\\nThat so did take Eliza and our James!\\nShakespeare seems to have been on affectionate terms with his theatre colleagues. His fellow actors John Heminge and Henry Condell (who, with Burbage, were remembered in his will) dedicated the First Folio of 1623 to the earl of Pembroke and the earl of Montgomery, explaining that they had collected the plays “without ambition either of self-profit or fame; only to keep the memory of so worthy a friend and fellow alive as was our Shakespeare.”\\n\\nAeschylus\\nREAD MORE ON THIS TOPIC\\ntragedy: Shakespearean tragedy\\nShakespeare was a long time coming to his tragic phase, the six or seven years that produced his five greatest tragedies—Hamlet (written...\\nAnecdotes and documents\\nSeventeenth-century antiquaries began to collect anecdotes about Shakespeare, but no serious life was written until 1709, when Nicholas Rowe tried to assemble information from all available sources with the aim of producing a connected narrative. There were local traditions at Stratford: witticisms and lampoons of local characters; scandalous stories of drunkenness and sexual escapades. About 1661 the vicar of Stratford wrote in his diary: “Shakespeare, Drayton, and Ben Jonson had a merry meeting, and it seems drank too hard; for Shakespeare died of a fever there contracted.” On the other hand, the antiquary John Aubrey wrote in some notes about Shakespeare: “He was not a company keeper; lived in Shoreditch; wouldn’t be debauched, and, if invited to, writ he was in pain.” Richard Davies, archdeacon of Lichfield, reported, “He died a papist.” How much trust can be put in such a story is uncertain. In the early 18th century a story appeared that Queen Elizabeth had obliged Shakespeare “to write a play of Sir John Falstaff in love” and that he had performed the task (The Merry Wives of Windsor) in a fortnight. There are other stories, all of uncertain authenticity and some mere fabrications.\\n\\n\\nWhen serious scholarship began in the 18th century, it was too late to gain anything from traditions. But documents began to be discovered. Shakespeare’s will was found in 1747 and his marriage license in 1836. The documents relating to the Mountjoy lawsuit already mentioned were found and printed in 1910. It is conceivable that further documents of a legal nature may yet be discovered, but as time passes the hope becomes more remote. Modern scholarship is more concerned to study Shakespeare in relation to his social environment, both in Stratford and in London. This is not easy, because the author and actor lived a somewhat detached life: a respected tithe-owning country gentleman in Stratford, perhaps, but a rather rootless artist in London.\\n\\nJohn Russell Brown\\nTerence John Bew Spencer\\nThe Editors of Encyclopaedia Britannica\\nShakespeare the poet and dramatist\\nThe intellectual background\\nShakespeare lived at a time when ideas and social structures established in the Middle Ages still informed human thought and behaviour. Queen Elizabeth I was God’s deputy on earth, and lords and commoners had their due places in society under her, with responsibilities up through her to God and down to those of more humble rank. The order of things, however, did not go unquestioned. Atheism was still considered a challenge to the beliefs and way of life of a majority of Elizabethans, but the Christian faith was no longer single. Rome’s authority had been challenged by Martin Luther, John Calvin, a multitude of small religious sects, and, indeed, the English church itself. Royal prerogative was challenged in Parliament; the economic and social orders were disturbed by the rise of capitalism, by the redistribution of monastic lands under Henry VIII, by the expansion of education, and by the influx of new wealth from discovery of new lands.\\n\\nAn interplay of new and old ideas was typical of the time: official homilies exhorted the people to obedience; the Italian political theorist Niccolò Machiavelli was expounding a new, practical code of politics that caused Englishmen to fear the Italian “Machiavillain” and yet prompted them to ask what men do, rather than what they should do. In Hamlet, disquisitions—on man, belief, a “rotten” state, and times “out of joint”—clearly reflect a growing disquiet and skepticism. The translation of Montaigne’s Essays in 1603 gave further currency, range, and finesse to such thought, and Shakespeare was one of many who read them, making direct and significant quotations in The Tempest. In philosophical inquiry the question “How?” became the impulse for advance, rather than the traditional “Why?” of Aristotle. Shakespeare’s plays written between 1603 and 1606 unmistakably reflect a new, Jacobean distrust. James I, who, like Elizabeth, claimed divine authority, was far less able than she to maintain the authority of the throne. The so-called Gunpowder Plot (1605) showed a determined challenge by a small minority in the state; James’s struggles with the House of Commons in successive Parliaments, in addition to indicating the strength of the “new men,” also revealed the inadequacies of the administration.\\n\\nPoetic conventions and dramatic traditions\\nThe Latin comedies of Plautus and Terence were familiar in Elizabethan schools and universities, and English translations or adaptations of them were occasionally performed by students. Seneca’s rhetorical and sensational tragedies, too, had been translated and often imitated. But there was also a strong native dramatic tradition deriving from the medieval miracle plays, which had continued to be performed in various towns until forbidden during Elizabeth’s reign. This native drama had been able to assimilate French popular farce, clerically inspired morality plays on abstract themes, and interludes or short entertainments that made use of the “turns” of individual clowns and actors. Although Shakespeare’s immediate predecessors were known as University wits, their plays were seldom structured in the manner of those they had studied at Oxford or Cambridge; instead, they used and developed the more popular narrative forms.\\n\\nChanges in language\\nThe English language at this time was changing and extending its range. The poet Edmund Spenser led with the restoration of old words, and schoolmasters, poets, sophisticated courtiers, and travelers all brought further contributions from France, Italy, and the Roman classics, as well as from farther afield. Helped by the growing availability of cheaper, printed books, the language began to become standardized in grammar and vocabulary and, more slowly, in spelling. Ambitious for a European and permanent reputation, the essayist and philosopher Francis Bacon wrote in Latin as well as in English; but, if he had lived only a few decades later, even he might have had total confidence in his own tongue.\\n\\nShakespeare’s literary debts\\nShakespeare’s most obvious debt was to Raphael Holinshed, whose Chronicles (the second edition, published in 1587) furnished story material for several plays, including Macbeth and King Lear. In Shakespeare’s earlier works other debts stand out clearly: to Plautus for the structure of The Comedy of Errors; to the poet Ovid and to Seneca for rhetoric and incident in Titus Andronicus; to morality drama for a scene in which a father mourns his dead son and a son his father, in Henry VI, Part 3; to Christopher Marlowe for sentiments and characterization in Richard III and The Merchant of Venice; to the Italian popular tradition of commedia dell’arte for characterization and dramatic style in The Taming of the Shrew; and so on. Soon, however, there was no line between their effects and his. In The Tempest (perhaps the most original of all his plays in form, theme, language, and setting) folk influences may also be traced, together with a newer and more obvious debt to a courtly diversion known as the masque, as developed by Ben Jonson and others at the court of King James.\\n\\nOf Shakespeare’s late works, Cardenio (now lost) was probably based on incidents involving the character Cardenio in Miguel de Cervantes’s Don Quixote. Since that great work had been translated into English in 1612 by Thomas Shelton, it was available to Shakespeare and John Fletcher when they evidently collaborated as authors on Cardenio in 1613. Fletcher turned to Cervantes in several of his later plays.\\n\\nTheatrical conditions of William Shakespeare\\nmap of London\\'s theatres c. 1600\\nmap of London\\'s theatres c. 1600\\nEncyclopædia Britannica, Inc.\\nThe Globe and its predecessor, the Theatre, were public playhouses run by the Chamberlain’s Men, a leading theatre company of which Shakespeare was a member. Almost all classes of citizens, excepting many Puritans and like-minded Reformers, came to them for afternoon entertainment. The players were also summoned to court, to perform before the monarch and assembled nobility. In times of plague, usually in the summer, they might tour the provinces, and on occasion they performed at London’s Inns of Court (associations of law students), at universities, and in great houses. Popularity led to an insatiable demand for plays: early in 1613 the King’s Men—as the Chamberlain’s Men were then known—could present “fourteen several plays.” The theatre soon became fashionable, too, and in 1608–09 the King’s Men started to perform on a regular basis at the Blackfriars, a “private” indoor theatre where high admission charges assured the company a more select and sophisticated audience for their performances. (For more on theatre in Shakespeare’s day, see Sidebar: Shakespeare and the Liberties.)\\n\\nShakespeare’s first associations with the Chamberlain’s Men seem to have been as an actor. He is not known to have acted after 1603, and tradition gives him only secondary roles, such as the ghost in Hamlet and Adam in As You Like It, but his continuous association must have given him direct working knowledge of all aspects of theatre. Numerous passages in his plays show conscious concern for theatre arts and audience reactions. Hamlet gives expert advice to visiting actors in the art of playing. Prospero in The Tempest speaks of the whole of life as a kind of “revels,” or theatrical show, that, like a dream, will soon be over. The Duke of York in Richard II is conscious of how\\n\\n…in a theatre, the eyes of men,\\nAfter a well-graced actor leaves the stage\\nAre idly bent on him that enters next,\\nThinking his prattle to be tedious.\\n(For more about Shakespeare and dramatic performance in his day, see Sidebar: Shakespeare on Theatre.)'"
            ],
            "application/vnd.google.colaboratory.intrinsic+json": {
              "type": "string"
            }
          },
          "metadata": {},
          "execution_count": 101
        }
      ]
    },
    {
      "cell_type": "code",
      "source": [
        "raw_doc=raw_doc.lower()\n",
        "nltk.download('punkt')\n",
        "nltk.download('omw-1.4')\n",
        "nltk.download('wordnet')\n",
        "sent_tokens = nltk.sent_tokenize(raw_doc)\n",
        "word_tokens = nltk.word_tokenize(raw_doc)\n",
        "\n"
      ],
      "metadata": {
        "colab": {
          "base_uri": "https://localhost:8080/"
        },
        "id": "ZFd2JytDtvX5",
        "outputId": "4cb11caa-f579-46f3-d7de-d532c949fda2"
      },
      "execution_count": 102,
      "outputs": [
        {
          "output_type": "stream",
          "name": "stderr",
          "text": [
            "[nltk_data] Downloading package punkt to /root/nltk_data...\n",
            "[nltk_data]   Package punkt is already up-to-date!\n",
            "[nltk_data] Downloading package omw-1.4 to /root/nltk_data...\n",
            "[nltk_data]   Package omw-1.4 is already up-to-date!\n",
            "[nltk_data] Downloading package wordnet to /root/nltk_data...\n",
            "[nltk_data]   Package wordnet is already up-to-date!\n"
          ]
        }
      ]
    },
    {
      "cell_type": "code",
      "source": [
        "sent_tokens[20]"
      ],
      "metadata": {
        "colab": {
          "base_uri": "https://localhost:8080/",
          "height": 35
        },
        "id": "AnXagHSLwU_q",
        "outputId": "09d45989-f4cb-4621-e79f-694ed42b1509"
      },
      "execution_count": 103,
      "outputs": [
        {
          "output_type": "execute_result",
          "data": {
            "text/plain": [
              "'his wife, mary arden, of wilmcote, warwickshire, came from an ancient family and was the heiress to some land.'"
            ],
            "application/vnd.google.colaboratory.intrinsic+json": {
              "type": "string"
            }
          },
          "metadata": {},
          "execution_count": 103
        }
      ]
    },
    {
      "cell_type": "markdown",
      "source": [
        "**Test preprocessing**"
      ],
      "metadata": {
        "id": "SVD7ArG4u211"
      }
    },
    {
      "cell_type": "code",
      "source": [
        "lemmer = nltk.stem.WordNetLemmatizer()\n",
        "def LemTokens(tokens):\n",
        "  return [lemmer.lemmatize(token) for token in tokens]\n",
        "\n",
        "remove_punch_dict = dict((ord(punct), None) for punct in string.punctuation)\n",
        "\n",
        "def LemNormalize(text):\n",
        "  return LemTokens(nltk.word_tokenize(text.lower().translate(remove_punch_dict)))\n"
      ],
      "metadata": {
        "id": "0s6vD1enunll"
      },
      "execution_count": 104,
      "outputs": []
    },
    {
      "cell_type": "markdown",
      "source": [
        "**Define Greetings**"
      ],
      "metadata": {
        "id": "VH2wBGwdv31L"
      }
    },
    {
      "cell_type": "code",
      "source": [
        "GREET_INPUTS = ('hello','hi','greetings','how are you','hey',)\n",
        "GREET_RESPONSES = ['hi','hey', 'hi there', 'hello', 'i am glad talking to you']\n",
        "def greet(sentence):\n",
        "  for word in sentence.split():\n",
        "    if word.lower() in GREET_INPUTS:\n",
        "      return random.choice(GREET_RESPONSES)"
      ],
      "metadata": {
        "id": "EcatnTVjv9jo"
      },
      "execution_count": 105,
      "outputs": []
    },
    {
      "cell_type": "markdown",
      "source": [
        "**Response generation**"
      ],
      "metadata": {
        "id": "xrMoAog3xK6S"
      }
    },
    {
      "cell_type": "code",
      "source": [
        "from sklearn.feature_extraction.text import TfidfVectorizer\n",
        "from sklearn.metrics.pairwise import cosine_similarity\n",
        "\n",
        "def response(user_response):\n",
        "  robo1_response =''\n",
        "  TfidfVec = TfidfVectorizer(tokenizer=LemNormalize, stop_words = 'english')\n",
        "  tfidf = TfidfVec.fit_transform(sent_tokens)\n",
        "  vals = cosine_similarity(tfidf[-1],tfidf)\n",
        "  idx = vals.argsort()[0][-2]\n",
        "  flat= vals.flatten()\n",
        "  flat.sort()\n",
        "  req_tfidf = flat[-2]\n",
        "  if req_tfidf==0:\n",
        "    robo1_response = robo1_response + \"I am sorry, I donot understand you\"\n",
        "    return robo1_response\n",
        "  else:\n",
        "    robo1_response = robo1_response + sent_tokens[idx]\n",
        "    return robo1_response"
      ],
      "metadata": {
        "id": "g1PIvMdrxPKA"
      },
      "execution_count": 106,
      "outputs": []
    },
    {
      "cell_type": "code",
      "source": [
        ""
      ],
      "metadata": {
        "id": "vriW1NQF0X8D"
      },
      "execution_count": 106,
      "outputs": []
    },
    {
      "cell_type": "code",
      "source": [
        "\n",
        "\n",
        "\n"
      ],
      "metadata": {
        "id": "fnUsdlMaxLVx"
      },
      "execution_count": 106,
      "outputs": []
    },
    {
      "cell_type": "code",
      "source": [
        "user_response=\"What is chamberlain\"\n",
        "user_response=user_response.lower()\n",
        "# flag = True\n",
        "# import pdb\n",
        "   \n",
        "sent_tokens.append(user_response)\n",
        "word_tokens=word_tokens+nltk.word_tokenize(user_response)\n",
        "final_words=list(set(word_tokens))\n",
        "print(f\"user_response : {user_response}\" )\n",
        "print(f\"sent_tokens last 5 : \" )\n",
        "#[print(str(i) + x, end='\\n') for i,x in enumerate(sent_tokens[:5]) ]\n",
        "print(f\"final_words : {final_words}\" )\n",
        "##########################\n",
        "lemmer = nltk.stem.WordNetLemmatizer()\n",
        "def LemTokens(tokens):\n",
        "  return [lemmer.lemmatize(token) for token in tokens]\n",
        "def LemNormalize1(text):\n",
        "  remove_punch_dict = dict((ord(punct), None) for punct in string.punctuation)\n",
        "  return LemTokens(nltk.word_tokenize(text.lower().translate(remove_punch_dict)))\n",
        "\n",
        "###############\n",
        "\n",
        "TfidfVec = TfidfVectorizer(tokenizer=LemNormalize, stop_words = 'english')\n",
        "#TfidfVec = TfidfVectorizer(tokenizer=LemNormalize1)\n",
        "tfidf = TfidfVec.fit_transform(sent_tokens)\n",
        "print(f\"tfidf[-1] : {tfidf[-1]}\")\n",
        "vals = cosine_similarity(tfidf[-1],tfidf)\n",
        "print(vals[-10:])\n",
        "print(\"---------\")\n",
        "print(vals.argsort())\n",
        "idx = vals.argsort()[0][-4:]\n",
        "\n",
        "for i in idx:\n",
        "  print(vals[0][i])\n",
        "\n",
        "print(idx)\n",
        "for i in idx:\n",
        "  print(sent_tokens[i])\n",
        "flat= vals.flatten()\n",
        "flat.sort()\n",
        "req_tfidf = flat[-2]\n",
        "# if req_tfidf==0:\n",
        "#   print(\"I am sorry, I donot understand you\")\n",
        "# else:\n",
        "#   print(sent_tokens[idx])\n",
        "\n",
        "\n",
        "sent_tokens.remove(user_response)"
      ],
      "metadata": {
        "colab": {
          "base_uri": "https://localhost:8080/"
        },
        "id": "o8aN01vn0dIZ",
        "outputId": "6c709a1f-d58a-47c0-c249-a2c9ba68ae91"
      },
      "execution_count": 130,
      "outputs": [
        {
          "output_type": "stream",
          "name": "stdout",
          "text": [
            "user_response : what is chamberlain\n",
            "sent_tokens last 5 : \n",
            "final_words : ['roles', 'announcement', 'christopher', 'means', 'homosexuality', 'positive', 'stand', 'although', 'birthplace', 'preface', '1608–09', 'gleaned', 'judith', 'addition', 'material', 'same', 'spelling', 'availability', 'disturbed', 'followed', 'during', 'interest', 'be', 'evans', 'will', 'man', 'fashionable', 'inviting', 'liberties', 'sandells', 'medical', 'general', 'gave', 'inquiry', 'conscious', 'summer', 'film', 'period', 'merchant', 'struggles', 'has', 'advantage', 'gaining', 'amusedly', \"'s\", 'say', 'printed', 'out', 'bond', 'good', 'public', 'explore', 'mutual', 'responsibilities', 'act', 'three', 'house', 'spirits', 'quiz', 'free', '25', 'pun', 'consist', 'seem', 'detailed', 'political', 'speak', 'masculine', 'audience', 'bassanio', 'baptized', 'celebrated', 'confidence', 'occupies', 'aspects', 'heiress', 'deathbed', 'avon', 'hamnet', 'passes', 'towns', 'way', 'the', 'children', 'portray', 'sonnets', 'whom', 'burgess', 'extended', 'stoops', 'old', 'inc.', 'important', 'biographical', 'shrouded', '20', 'rise', 'initiative', 'should', 'early', 'husband', '1661', 'level', 'deer', 'capitalism', 'rowe', 'relating', 'memorable', '1', 'internal', 'social', 'have', 'christened', 'king', 'economic', 'martin', 'mere', 'chronicle', 'produced', 'conjectured', 'striking', 'no', 'visiting', 'made', 'give', 'son', 'facts', 'retrieve', 'quiney', 'whore', '1623.', 'partner', 'getting', 'eliza', 'difficulty', 'livery', 'changes', 'single', 'forbear', 'thus', 'fever', 'translation', 'was', 'vows', 'treasure.', 'sorts', 'miguel', 'spenser', 'jonson', 'cymbeline', 'mostly', 'factotum', 'share', 'duke', 'round', 'condell', 'ambiguity', 'english', 'houses', 'wits', 'evidence', 'person', 'loathed', 'regular', 'rhetorical', 'excepting', 'underscores', 'complete', 'up', '2', 'swan', '18', 'young', 'finished', 'traced', '!', 'library', 'religious', 'images', 'adonis', 'language', 'coats', 'nicholas', 'without', 'debts', 'imaginatively', 'shakespeare', 'faith', 'england—died', 'prefer', 'enamoured', 'monument', 'pequigney', 'exhorted', 'thing', 'politics', 'raphael', 'absences', 'farther', 'and', 'flagrantly', '1602', 'theme', 'processes', 'now', 'you', 'testimony', 'cooperative', 'point', 'executed', 'her', 'creating', 'suffered', 'wished', '“', 'apparently', 'rotten', 'hathaways', 'earlier', 'favorites', 'circles', 'who', 'fame', 'situations', 'necessitated', 'obviously', 'mary', 'certainly', 'find', 'absence', 'vi', 'greatly', 'night', 'true', '...', 'illustrated', 'speaks', 'humble', 'charles', 'when', 'equally', 'detached', '1590s', 'performances', 'entertained', '17', 'drafts', 'interests', 'how', 'individual', 'don', 'declared', 'alderman', 'poet', 'parliament', 'notes', 'fear', 'pathos', 'fulfilled', 'dickens', 'to', 'britain', 'however', '1998', 'sharing', 'already', 'fortunes', 'society', 'first', 'imogen', 'invited', 'anything', 'theatrical', 'question', 'commentators', 'wonder', 'authors', 'poetry—that', 'prefixed', 'trade', 'farmhouse', 'arrested', 'transactions', '3', '?', 'certain', 'learn', 'trust', 'mid-19th', 'next', 'hostile', 'argued', 'holy', 'enterprise', 'conquer', 'fabrications', 'shrew', 'rough', 'machiavillain', 'register', 'discovery', 'aimed', 'suggested', 'rate', 'hand', 'intent', 'career', 'player', 'newer', 'court—these', 'spares', 'why', 'intimately', 'aubrey', 'thomas', 'andronicus', 'mind', '1582', 'unquestioned', '21', 'ages', 'is', 'lines', 'college', 'william', 'bookish', 'triumph', 'demand', 'deaths', 'occasion', 'creative', 'determine', 'describe', 'admission', 'tributes', 'performed', 'private', 'older', 'determined', 'playwrights', 'my', '—that', 'changing', 'burials', 'actor', 'uncertain', '1623', 'unlikely', 'code', 'assured', 'adventures', 'feathers', 'joseph', 'eyes', 'overheard', 'authority', 'instead', 'risks', 's', 'popular', 'antiquaries', 'lost', 'errors', 'near', 'rootless', 'yeomen', 'blank', 'people', '.', '4.0', 'took', 'leaves', 'readers', 'these', 'finally', 'folk', 'most', 'personal', 'under', 'had', 'property', 'like', '1609', 'calvin', '1600s', 'seems', 'unfortunately', 'advice', 'intriguing', 'involving', '13', 'keeper', 'birthday', 'lord', 'rank', 'far', 'known—could', 'visions', 'does', 'viola', 'thee', 'assertion', 'scholars', 'clever', 'action', 'again', 'sensational', 'hawthornden', 'premium', 'coming', 'they', 'spent', 'francis', 'imaginative', 'million', 'venice', 'well', 'lampoons', 'run', 'comforted', 'basis', 'finesse', 'essayist', 'entry', 'leo', 'drayton', 'players', 'decided', 'shaky', 'interested', 'folio', 'ii', 'position', 'perceptiveness', 'parish', 'edition', 'carter', 'sweet', '1604.', 'soldier', 'small', 'revels', 'adam', 'afield', 'exclusive', 'scholarly', 'playhouses', 'purpose', 'pain.', 'dreamwork', 'quixote', 'affair', 'alive', 'aristotle', 'labour', 'incredulous', '1594', 'beautiful', 'walking', 'writers', 'unsatisfactory', 'beautified', 'pleasure', 'provinces', 'gentility', 'swift', 'coronation', 'besides', 'miles', 'heart', 'mention', 'louis', 'human', 'short', 'skeleton', 'imagine', 'information', 'land', 'birth', 'deep', 'european', 'fact', 'use', 'appear', 'stratford', 'stirring', 'began', 'continued', 'italian', 'characters', 'obliged', 'cc-by-sa', 'devoted', 'portrayed', 'books', 'happened', 'rumoured', '``', 'informed', 'earl', 'company', 'law', 'accompany', 'valorizes', 'lucy', ';', 'documents', 'crow', 'prophecy', 'philosopher', 'hope', 'royal', 'couplet', 'englishmen', 'mentioned', 'scene', 'videos', 'went', 'within', 'fiction', '1568', 'fellow', 'britannica', 'character', 'called', 'household', 'several', 'asking', 'olave', '1664', 'epitaph', 'studied', 'lawyer', 'case', 'collection', 'bard', '1642.', 'papist.', 'baptisms', 'arrived', 'map', 'lucrece', 'associate', 'do', 'sebastian', 'artist', 'john', 'montgomery', 'archdeacon', 'scenes', 'personality', 'fortnight', 'ovid', 'generally', 'enough', 'consent', 'fantasy', 'growing', 'currency', 'shake-scene', 'feels', 'intended', 'well-graced', 'writings', 'see', '18th', 'amount', 'family', 'averse', 'delight', 'toward', 'shakespeare.', 'marriage', 'rhetoric', 'before', 'bold', 'tragic', 'few', 'earth', 'caused', 'greatest', 'path', 'heterosexuality', '(', 'occasional', '23', 'remembered', 'hastened', 'select', 'second-best', 'summoned', 'abstract', 'classics', 'photos', 'intelligible', 'background', 'belief', 'association', 'explains', 'through', 'questions', 'fluctuations', 'survives', 'large', 'meaning', 'beloved', 'speaker', 'plague', 'tried', 'disquiet', 'infidelity', 'he', 'she', 'paid', 'sure', 'conditions', 'shoreditch', 'roughly', 'survived', 'bisexuality', 'davies', 'view', 'embellished', 'impersonation', '1613', 'performing', 'by', 'greenes', 'impulse', 'monarch', '1759', 'bevington', 'subject', 'least', 'established', 'debauched', 'go', 'document', 'opportunity', 'montaigne', 'risk', 'contain', 'immediate', 'itself', 'access', 'bombast', '1606', 'our', 'frisson', 'monastic', 'finds', 'all', 'his', 'translated', 'greene', 'horses', 'appears', 'wealth', 'socrates', 'setting', 'hard', 'transcended', 'attention', 'linger', 'interludes', 'drunkenness', 'also', 'interplay', 'thy', 'others', 'universities', 'marvelous', 'it', 'signatures', 'live', 'niccolò', 'maintain', 'johannes', 'editors', 'him', '1597', 'playfully', 'manner', 'two', 'than', 'assignation', 'phase', 'like-minded', 'emotional', 'painful', 'thou', 'constructed', 'testifying', 'allusions', 'daughter', 'comes', 'developed', '1910.', '1587', 'grant', 'read', 'commoners', 'on', 'difficult', 'distrust', 'stack', 'participation', 'writing', 'pregnancy', 'blog', 'ancient', '©', 'significant', 'tedious', 'composition', 'effects', '1747', 'tithes—a', 'are', 'modern', 'saying', 'elizabethans', 'serious', 'low', 'months', 'self-profit', 'thinking', 'lane', 'molded', 'needs', 'knew', 'visited', 'skepticism', 'life', 'clearly', 'knowledge', 'greatness', 'create', 'machiavelli', 'shows', 'whose', 'much', 'appeared', '1585', 'eight', 'easily', 'named', 'whole', 'numerous', 'ideas', 'lack', 'living', 'that', 'letter', 'place', 'queen', 'there', 'morality', 'came', 'delicate', 'flights', 'look', 'afterthought', 'applied', 'returning', 'british', 'indication', 'properties', 'appealed', 'hamlet', 'attracted', 'hathaway', 'preserved', 'sake', 'unclear', 'concerned', 'sophisticated', 'barriers', 'example', 'little', 'book', 'york', 'merits', '17th-century', 'collected', 'contemporary', 'plautus', 'james', 'piece', 'explaining', 'visits', 'manningham', 'work', 'theatre', 'ardently', 'member', 'indicating', 'protests', 'resulting', 'game', 'troilus', 'blest', 'coat', 'thames', 'debt', 'masterful', 'commanding', 'puritans', 'remember', 'from', 'vicinity', 'become', 'addressed', 'indeed', 'professional', 'get', 'including', 'reformers', 'length', 'soon', 'notorious', 'countryman', 'familiar', 'themselves', 'minority', 'influx', 'begins', 'gives', 'thereafter', 'picture', 'newberry', 'worth', 'insulting', 'their', 'cervantes', 'lands', '23.', 'other', 'dead', 'lawsuit', 'hompepage', 'medieval', 'walking—dressed', 'message', 'joined', 'macbeth', 'later', 'women', 'courtiers', 'commentary', 'cripplegate', 'after', 'bew', 'mental', 'witte', 'amusing', 'arranged', 'obedience', 'prospered', 'survive', 'learned', 'tell', 'reinforced', 'reasonable', 'fairly', 'critic', 'taming', ']', 'attributes', 'st.', 'below', 'assume', 'forbidden', 'city', 'banns', 'letters', 'roman', 'country', '1585.', 'caught', 'exactly', 'impossible', 'masque', 'meeting', 'merry', 'loan', 'sequence', 'purchase', 'documentation', 'chamberlain', 'me', 'bailiff', 'depictions', 'together', 'highest', 'town', 'translations', '2009', 'era', '218–220', 'mirth', 'relation', 'conclude', 'might', 'structure', '33–34', ')', '1583.', 'seventeenth-century', 'hall', 'romeo', 'gone', 'play', 'unplanned', 'close', 'portia', 'chronicles', 'shakespeares', 'reference', 'final', 'deal', 'november', 'energy', 'anecdotes', 'able', 'europe', 'add', 'boyhood', 'astute', 'expansion', 'unbridled', 'date', 'elizabeth', 'physical', 'jealousies', 'boundaries', 'puritanical', 'died', 'official', 'contracted.', 'speculation', '1599', 'friend', 'moralists', 'disguise', 'gifts', 'aeschylus', 'assembled', 'third', 'commons', 'takes', 'obvious', 'dusty', 'among', 'potential', 'sometimes', 'poems', 'writer', 'turns', 'cheaper', 'lived', 'decades', 'sentiments', 'establish', 'whither', 'said', 'would', '16th', 'relationship', 'arts', 'cupbearer', 'cambridge', 'closing', 'ambitious', 'though', 'elizabethan', 'purchased', '17th', 'studies—learning', 'fletcher', 'definition', 'any', 'line', 'patroclus', 'contributions', 'expounding', 'accession', 'buried', '1565', 'wilmcote', 'huguenot', 'parliaments', 'juliet', 'making', 'here', 'splendid', 'object', '129', 'lodged', 'flesh', 'insatiable', 'testament', 'so-called', 'unmistakably', 'boy', 'offering', 'away', 'sympathy', 'tour', 'wrote', 'begging', 'disappointing', 'couple', 'characteristically', 'prosper', '1564', 'art', 'born', 'scholarship', 'comedy', 'seven', '1965', 'stories—given', 'outright', 'between', 'classical', 'moved', 'february', 'published', 'apology', 'hide', 'antiquary', 'five', 'tygers', 'full-time', 'sexuality', 'publication', 'himself', 'onward', 'less', 'men—as', 'contact', 'cardenio', 'daughters', 'engaged', 'simple', 'extending', 'dell', 'station', 'friends', 'only', 'whatever', 'arms', 'because', 'estate', 'languages', 'qualities', 'latin', 'cesario', 'things', 'cressida', 'mean', 'chilo', 'written', 'brought', 'advance', 'astonishingly', 'mr.', 'return', 'historians', 'behind', 'mourns', 'morphs', 'entertainments', 'been', 'eager', 'salary', 'timeless', 'saw', 'thought', 'earning', 'orders', 'poem', 'frontispiece', 'acted', 'registry', 'occasionally', 'kind', 'showed', 'male', 'wouldn', 'interesting', 'stimulating', 'retired', 'stage', '26', 'external', 'preserves', 'involved', 'gain', 'stories', 'twins', 'could', 'dust', 'performance', 'heirs', 'likes', 'theatregoers', 'minding', 'structured', 'conqueror', 'titus', 'challenged', 'female', 'passages', 'virgil', 'except', 'waters', 'manuscript', 'down', 'used', 'task', 'whether', 'pamphlet', 'sustained', 'helped', 'viola—in', 'xo', 'child', 'publishing', 'father', 'name', 'perception', 'last', 'orlando', 'poetic', 'philosophical', 'not', 'commemorate', 'adaptations', 'relationships', 'truth', 't', 'history', 'intellectual', 'death', 'almost', 'chancel', 'tragedies—hamlet', 'sarcasms', 'corresponding', 'stealing', 'writ', 'pile', 'lords', 'marriages', 'iii', '1592', 'ever', 'gunpowder', 'discovered', 'shakspere', 'witticisms', 'presentation', 'reciprocal', 'wills', 'penis—means', 'arrival', 'bust', 'upstart', 'according', 'found', 'original', 'desertion', 'busy', 'playing', 'payments', 'torchy', '1605', '3.2', 'show', '/', 'part', 'very', 'dream', 'robert', 'allegedly', 'genders', 'high', 'repertory', 'reactions', 'beauty', 'premarital', 'standardized', 'heminge', 'admonish', 'disquisitions—on', 'lesseps', 'france', 'prerogative', 'courtly', 'stratford-upon-avon', 'details', 'at', 'financial', 'restoration', 'juliet—indeed', 'revulsion', 'banks', 'verified', 'concluding', 'permanent', 'ceremony', 'doubts', '16.', 'deeply', 'but', 'impudent', 'h.', 'archives', 'charges', 'perform', 'security', 'holinshed', 'achilles', 'shelton', 'collect', 'concern', 'southampton', 'literary', 'divine', 'solely', 'major', 'as', 'cross-dressing', 'officialdom', 'bawdy', 'viola/cesario', 'tithe-owning', 'dramatist', 'wriothesley', 'grammar', 'centuries', 'method', 'assemble', 'london', 'national', 'divorce', 'multitude', 'falstaff', 'escapades', 'both', 'homilies', 'various', 'testator', 'leading', 'study', 'french', 'miracle', 'v', 'posit', 'license', 'repentance', 'late', '1836.', 'essays', 'die', 'i', 'felt', 'pricked', 'backed', 'let', 'one-fifth', 'direct', 'richard', 'italy', 'quality', 'globe', 'terms', 'own', 'windsor', 'some', 'marry', 'world', 'c.', 'orsino', 'reading', 'rigid', 'spelled', 'silver', 'environment', 'tempest', 'convincing', 'court', 'wives', 'nonetheless', 'enabled', 'compare', 'seeing', 'for', 'successive', 'evidently', 'lust', 'local', '[', 'retracting', 'moves', 'enjoyed', 'usual', '28', 'abstruse', 'terence', 'fees', 'seneca', 'magnate', 'diary', 'objections', 'inns', 'assiduously', 'forms', 'granted', 'inadequacies', 'passed', 'of', 'brief', 'battle', 'acquaintance', 'total', 'even', 'aim', 'suggestion', 'form', 'homage', 'predecessor', 'collaborated', 'belonged', 'tragedies', 'arden', 'conveyances', 'servant', 'simply', 'deny', 'associations', 'apply', \"''\", 'friendship', 'claimed', 'leave', 'matter', 'nothing', 'dedicated', 'legends', 'homosexual', 'nearly', 'easy', 'course', 'bent', 'worthy', 'possibility', 'narrative', 'known', 'every', 'eventually', 'gentleman', 'over', 'commonplace', '1619', 'chosen', 'administration', 'subjects', 'rose', 'afternoon', 'plot', 'must', '11', 'david', 'imitated', 'absurd', 'rose/archive', 'which', 'transaction', 'wisdom', 'bohemians', 'send', 'university', 'fill', 'trinity', 'contemporaries', 'comedies', 'inscribed', 'works', 'a', 'quite', 'ganymede', 'theorist', 'curst', 'deliver', 'records', 'such', 'full', 'ample', 'dig', '1616', 'mountjoy', 'respected', 'april', 'conflicts', 'affairs', 'business', 'purely', 'henry', '1709', 'lichfield', 'this', 'ben', 'rape', 'students', 'conceivable', '…in', 'poets', 'one', 'compatible', 'started', 'keep', 'citizen', 'shakespearean', 'indicates', '1603', 'wanted', 'engage', 'reported', 'richardson', 'state', 'charlecote', 'sidebar', 'god', 'until', 'having', 'supposes', 'acquired', 'art.', 'tragedy', 'too', 'characterization', 'times', 'guilty', 'stones', '1613.', 'further', '1583', 'places', 'procedure', 'today', 'deriving', 'atheism', 'years', 'joint', 'episcopal', 'tongue', 'deputy', 'death—of', 'majority', 'party', 'men', 'courtesy', 'expression', 'completion', 'emotions', 'slowly', ',', 'unable', 'popularity', 'woman', 'murder', 'viii', 'what', 'reflect', 'diversion', 'scandalous', 'strength', 'clerically', 'etching', 'in', 'prattle', 'possibly', 'moreover', 'opportunities', 'rapidity', 'irish', 'immediately', 'christian', 'folger', 'make', 'prompted', 'raise', 'throne', 'winning', 'tolstoy', 'lend', 'author', 'wall', 'favours', 'influences', 'typical', 'vocabulary', 'reputation', 'fourteen', '—clearly', 'paper', 'bequeathed', 'bishop', '£30—a', 'another', 'citizens', 'dated', 'upon', 'cultures', 'strong', 'content', 'somewhat', 'william.', 'owe', 'prospero', 'disappointment', 'tower', 'lists', 'style', 'needed', 'catamite', 'love', 'ill.', 'native', 'bought', 'troubled', 'unique', 'taking', 'conceit', 'arte', 'keenness', 'marlowe', 'bettmann/corbis', 'surprisingly', 'conventions', 'either', 'where', '1616.', 'sources', 'those', 'nobility', 'order', 'regularly', 'england', 'heterosexual', 'ambition', 'once', 'province', 'entertainment', '1612.', 'colleagues', 'sight', 'burbage', 'test', 'touching', '27', 'countries', 'tradition', 'into', 'yet', '1596.', 'know', 'classes', 'twelfth', 'plays', 'energies', 'write', 'brown', 'albert', 'given', 'groats-worth', 'can', 'jesus', 'rome', 'considered', 'representations', 'katharine', 'probably', 'incidents', 'literature', 'handed', 'inspired', 'verse', 'many', 'existed', 'kinds', 'day', 'unhappiness', 'audacious', 'factual', 'idly', 'sir', 'russell', 'take', 'ghost', 'sexual', 'anne', 'wedding', 'poet-speaker', 'imagined', 'assimilate', 'subscribe', 'wife', 'trouble', 'longer', 'susanna', 'ask', 'revealed', 'seldom', 'led', 'uncertainty', 'scale', 'secondary', 'overhear', 'studying', 'furnished', 'de', 'challenge', 'physician', 'time', '1612', 'due', 'patrons', 'nature', 'topic', 'gibe', 'schoolmasters', 'plays.', 'issued', 'its', 'dante', 'second', 'studies', 'about', 'erected', 'absolute', 'praise', 'presumably', 'reminded', 'equipped', 'oxford', 'rosalind/ganymede', 'distinctions', 'isles', 'aforementioned', 'range', 'did', 'encyclopædia', '3rd', 'byname', 'beings', 'new', 'worldly', 'legal', 'hast', 'insisting', 'quarrel', 'available', 'subscription', 'producing', 'turned', 'mating', 'logic', 'borough', 'remote', 'indoor', 'autobiographical', 'sex', 'side', 'dates', 'since', 'drama', 'vicar', 'antonio', 'becomes', 'men—at', 'story', 'best', 'middle', 'redistribution', 'bed', 'traditional', 'supposed', 'behaviour', 'incident', 'gravestone', 'clowns', 'if', 'quotations', 'were', 'commedia', 'elder', '16th-century', 'sonnet', 'wm', 'suggest', 'with', '1596', 'prosperity', 'step', 'extraordinarily', 'actors', 'beliefs', 'bell', 'travelers', 'long', 'may', 'loving', 'legacy', 'witnessed', 'edmund', 'desire', 'score', 'real', 'regarded', 'going', 'km', 'often', 'thrown', 'zeus', 'nestor', 'reasons', 'affectionate', 'traditionally', 'fictional', 'schoolmaster', 'venus', 'march', 'shotgun', 'themes', 'great', 'vicarious', 'married', 'playwright', 'reign', 'dependent', 'luther', 'memory', 'nobleman', 'consummated', 'jacobean', 'bequeathing', 'inhabited', 'posthumous', 'genial', 'sects', 'extrapolations', 'mine', 'structures', 'power', 'mayor', 'well-born', 'age', 'pembroke', 'school', 'bones', 'so', 'deduced', 'words', 'continuous', '”', 'suppose', 'encyclopaedia', 'rosalind', 'theatres', 'working', 'entailed', 'predecessors', 'giving', 'charter', 'success', 'idea', 'affection', 'impression', 'being', 'warmly', 'pupils', 'fine', 'dramatic', 'student', 'sort', 'schools', 'traditions', 'put', 'education', 'century', 'anyone', 'blackfriars', 'dark-haired', ':', 'practical', '1600', 'church', '’', 'an', 'present', 'blood', 'lear', 'inn', 'lieu', 'based', 'or', 'loves', 'genius', 'artistry', 'sum', 'worcester', 'perhaps', 'article', 'homer', 'drummond', 'drank', 'stratfordian', 'attempt', 'usually', 'warwickshire', 'remained', 'acting', 'uncertainly', 'apart', 'still', 'grown', 'bacon', 'more', 'six', 'farce', 'novelists', 'them', 'enclosed', 'conversation', 'autumn', 'authenticity', 'expert', 'connected', 'then', 'night—wins', 'rather', 'effeminate', 'vivid', 'retold', 'mannish', 'became', 'spencer', 'wrapt', 'enters', 'circumstances', 'issue', 'these.', 'your']\n",
            "tfidf[-1] :   (0, 279)\t1.0\n",
            "[[0.         0.         0.         0.         0.         0.\n",
            "  0.         0.         0.         0.         0.         0.\n",
            "  0.         0.         0.         0.         0.         0.\n",
            "  0.         0.         0.         0.         0.         0.\n",
            "  0.         0.         0.         0.         0.         0.\n",
            "  0.         0.         0.         0.         0.         0.\n",
            "  0.         0.         0.         0.         0.         0.\n",
            "  0.         0.         0.         0.         0.         0.\n",
            "  0.15583328 0.         0.         0.         0.         0.\n",
            "  0.         0.         0.         0.         0.         0.\n",
            "  0.         0.         0.         0.         0.         0.\n",
            "  0.         0.         0.         0.         0.         0.\n",
            "  0.         0.         0.         0.         0.         0.\n",
            "  0.         0.         0.         0.         0.         0.\n",
            "  0.         0.         0.         0.         0.         0.\n",
            "  0.         0.         0.         0.         0.         0.\n",
            "  0.         0.         0.         0.         0.         0.\n",
            "  0.         0.         0.         0.         0.         0.21194361\n",
            "  0.         0.         0.         0.         0.         0.\n",
            "  0.         0.         0.         0.         0.         0.\n",
            "  0.         0.         0.         0.         0.         0.\n",
            "  0.         0.         0.         0.         0.         0.\n",
            "  0.         0.         0.         0.         0.         0.\n",
            "  0.         0.         0.         0.         0.         0.\n",
            "  0.         0.         0.         0.         0.         0.\n",
            "  0.         0.         0.         0.         0.         0.\n",
            "  0.         0.         0.         0.         0.         0.\n",
            "  0.         0.         0.         0.         0.         0.\n",
            "  0.         0.         0.         0.         0.         0.\n",
            "  0.         0.         0.         0.14092015 0.         0.\n",
            "  0.         0.12451735 0.         0.40474939 0.         0.\n",
            "  0.         0.         0.         0.         1.        ]]\n",
            "---------\n",
            "[[  0 120 121 122 123 124 125 126 127 128 129 130 131 132 133 134 135 136\n",
            "  137 138 119 118 117 116 189  96  97  98  99 100 101 102 103 139 104 106\n",
            "  108 109 110 111 112 113 114 115 105  94 140 142 167 168 169 170 171 172\n",
            "  173 174 175 176 178 179 180 182 184 185 186 187 188 166 165 164 163 143\n",
            "  144 145 146 147 148 149 150 151 141 152 154 155 156 157 158 159 160 161\n",
            "  162 153  93  95  91  25  26  27  28  29  30  31  32  33  34  35  36  37\n",
            "   38  39  40  41  42  43  24  23  22  21   1   2   3   4   5   6   7   8\n",
            "    9  92  10  12  13  14  15  16  17  18  19  20  11  45  44  47  72  73\n",
            "   74  75  76  77  78  79  80  81  82  83  84  85  86  87  88  89  90  46\n",
            "   70  71  68  50  53  54  55  56  69  57  58  52  59  60  61  62  63  64\n",
            "   65  66  67  49  51 181 177  48 107 183 190]]\n",
            "0.15583327961886262\n",
            "0.21194360940749665\n",
            "0.4047493877616762\n",
            "1.0\n",
            "[ 48 107 183 190]\n",
            "globe theatre\n",
            "globe theatre\n",
            "mary evans picture library\n",
            "how his career in the theatre began is unclear, but from roughly 1594 onward he was an important member of the lord chamberlain’s company of players (called the king’s men after the accession of james i in 1603).\n",
            "william shakespeare and lord chamberlain's men performing \"love's labour's lost\" for queen elizabeth i, from the works of william shakespeare; etching, dated c. mid-19th century.\n",
            "shakespeare’s first associations with the chamberlain’s men seem to have been as an actor.\n",
            "what is chamberlain\n"
          ]
        },
        {
          "output_type": "stream",
          "name": "stderr",
          "text": [
            "/usr/local/lib/python3.7/dist-packages/sklearn/feature_extraction/text.py:401: UserWarning: Your stop_words may be inconsistent with your preprocessing. Tokenizing the stop words generated tokens ['ha', 'le', 'u', 'wa'] not in stop_words.\n",
            "  % sorted(inconsistent)\n"
          ]
        }
      ]
    },
    {
      "cell_type": "markdown",
      "source": [
        "**Define chat start and end conditions**"
      ],
      "metadata": {
        "id": "9-M6ZxyszcD3"
      }
    },
    {
      "cell_type": "code",
      "source": [
        "flag = True\n",
        "import pdb\n",
        "print(\"BOT: My name is RKJBot, ask me any question. To exit at any time, just type Bye!\")\n",
        "while(flag==False):\n",
        "  \n",
        "  user_response=input()\n",
        "  user_response=user_response.lower()\n",
        "  if(user_response!='bye'):\n",
        "    if (user_response=='thanks' or user_response=='thank you'):\n",
        "      flag=False\n",
        "      print(\"BOT: You are welcome..\")\n",
        "    else:\n",
        "      if (greet (user_response)!=None):\n",
        "        print(\"BOT: \"+greet(user_response))\n",
        "      else:\n",
        "        \n",
        "        sent_tokens.append(user_response)\n",
        "        word_tokens=word_tokens+nltk.word_tokenize(user_response)\n",
        "        final_words=list(set(word_tokens))\n",
        "        print(\"BOT: \",end=\"\")\n",
        "        print(\"<<<<<<<<<<<<<<<<<<<\")\n",
        "        print(response(user_response))\n",
        "        sent_tokens.remove(user_response)\n",
        "  else:\n",
        "    flag=False\n",
        "    print(\"BOT: Goodbye!\")\n",
        "\n"
      ],
      "metadata": {
        "id": "W-UkmHfYzmAn",
        "colab": {
          "base_uri": "https://localhost:8080/"
        },
        "outputId": "86de3a7e-4c90-4a8e-b02f-47a4e006c538"
      },
      "execution_count": 108,
      "outputs": [
        {
          "output_type": "stream",
          "name": "stdout",
          "text": [
            "BOT: My name is RKJBot, ask me any question. To exit at any time, just type Bye!\n"
          ]
        }
      ]
    }
  ]
}